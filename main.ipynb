{
 "cells": [
  {
   "cell_type": "markdown",
   "metadata": {},
   "source": [
    "# LAB : Python Array Exercises"
   ]
  },
  {
   "cell_type": "markdown",
   "metadata": {},
   "source": [
    "## Overview"
   ]
  },
  {
   "cell_type": "markdown",
   "metadata": {},
   "source": [
    "This exercise set focuses on various operations and problems related to arrays in Python. Each exercise is categorized by difficulty level, with examples provided for clarity.\n"
   ]
  },
  {
   "cell_type": "markdown",
   "metadata": {},
   "source": [
    "## Instructions\n",
    "\n",
    "- Complete each exercise by writing the appropriate Python code.\n",
    "- Complete your code in a Jupyter Notebook (.ipynb) format.\n",
    "- Submit the link to your forked repository containing the notebook with your implementation.\n",
    "\n",
    "Make sure to follow these steps carefully to ensure proper submission of your work. "
   ]
  },
  {
   "cell_type": "markdown",
   "metadata": {},
   "source": [
    "\n",
    "## Exercises\n"
   ]
  },
  {
   "cell_type": "markdown",
   "metadata": {},
   "source": [
    "\n",
    "1. **Create an Array and Display Items**\n",
    "   - Write a Python program to create an array of 5 integers and display the array items. Access individual elements through indexes.\n",
    "\n",
    "   **Example:**\n",
    "   ```python\n",
    "   # Sample Input\n",
    "   arr =[1, 3, 5, 7, 9]\n",
    "\n",
    "   # Sample Output\n",
    "   1\n",
    "   3\n",
    "   5\n",
    "   7\n",
    "   9\n",
    "   ```\n"
   ]
  },
  {
   "cell_type": "code",
   "execution_count": 1,
   "metadata": {},
   "outputs": [
    {
     "name": "stdout",
     "output_type": "stream",
     "text": [
      "Array elements: array('i', [10, 20, 30, 40, 50])\n",
      "Element at index 0: 10\n",
      "Element at index 1: 20\n",
      "Element at index 2: 30\n",
      "Element at index 3: 40\n",
      "Element at index 4: 50\n"
     ]
    }
   ],
   "source": [
    "# Import the array module\n",
    "import array\n",
    "\n",
    "# Create an array of 5 integers\n",
    "numbers = array.array('i', [10, 20, 30, 40, 50])\n",
    "\n",
    "# Display the entire array\n",
    "print(\"Array elements:\", numbers)\n",
    "\n",
    "# Access and display individual elements using indexes\n",
    "print(\"Element at index 0:\", numbers[0])\n",
    "print(\"Element at index 1:\", numbers[1])\n",
    "print(\"Element at index 2:\", numbers[2])\n",
    "print(\"Element at index 3:\", numbers[3])\n",
    "print(\"Element at index 4:\", numbers[4])\n"
   ]
  },
  {
   "cell_type": "markdown",
   "metadata": {},
   "source": [
    "\n",
    "2. **Append an Item to the Array**\n",
    "   - Write a Python program to append a new item to the end of the array.\n",
    "\n",
    "   **Example:**\n",
    "   ```python\n",
    "   # Sample Input\n",
    "   arr =  [1, 3, 5, 7, 9]\n",
    "\n",
    "   # Sample Output\n",
    "   Original array: [1, 3, 5, 7, 9]\n",
    "   New array after appending: [1, 3, 5, 7, 9, 11]\n",
    "   ```\n"
   ]
  },
  {
   "cell_type": "code",
   "execution_count": 2,
   "metadata": {},
   "outputs": [
    {
     "name": "stdout",
     "output_type": "stream",
     "text": [
      "Original array: array('i', [10, 20, 30, 40, 50])\n",
      "Updated array after appending 60: array('i', [10, 20, 30, 40, 50, 60])\n"
     ]
    }
   ],
   "source": [
    "import array\n",
    "\n",
    "# Create an array of integers\n",
    "numbers = array.array('i', [10, 20, 30, 40, 50])\n",
    "\n",
    "# Display the original array\n",
    "print(\"Original array:\", numbers)\n",
    "\n",
    "# Append a new item (e.g., 60) to the end of the array\n",
    "numbers.append(60)\n",
    "\n",
    "# Display the updated array\n",
    "print(\"Updated array after appending 60:\", numbers)\n"
   ]
  },
  {
   "cell_type": "markdown",
   "metadata": {},
   "source": [
    "\n",
    "3. **Reverse the Array**\n",
    "   - Write a Python program to reverse the order of the items in the array.\n",
    "\n",
    "   **Example:**\n",
    "   ```python\n",
    "   # Sample Input\n",
    "   arr = [1, 3, 5, 7, 9]\n",
    "\n",
    "   # Sample Output\n",
    "   Original array:[1, 3, 5, 7, 9]\n",
    "   Reversed array:  [9, 7, 5, 3, 1]\n",
    "   ```\n"
   ]
  },
  {
   "cell_type": "code",
   "execution_count": 3,
   "metadata": {},
   "outputs": [
    {
     "name": "stdout",
     "output_type": "stream",
     "text": [
      "Original array: array('i', [10, 20, 30, 40, 50])\n",
      "Reversed array: array('i', [50, 40, 30, 20, 10])\n"
     ]
    }
   ],
   "source": [
    "import array\n",
    "\n",
    "# Create an array of integers\n",
    "numbers = array.array('i', [10, 20, 30, 40, 50])\n",
    "\n",
    "# Display the original array\n",
    "print(\"Original array:\", numbers)\n",
    "\n",
    "# Reverse the array\n",
    "numbers.reverse()\n",
    "\n",
    "# Display the reversed array\n",
    "print(\"Reversed array:\", numbers)\n"
   ]
  },
  {
   "cell_type": "markdown",
   "metadata": {},
   "source": [
    "\n",
    "4. **Find the Length of an Array Item**\n",
    "   - Write a Python program to get the length in bytes of one array item in the internal representation.\n",
    "\n",
    "   **Example:**\n",
    "   ```python\n",
    "   # Sample Input\n",
    "   arr = [1, 3, 5, 7, 9]\n",
    "\n",
    "   # Sample Output\n",
    "   Length in bytes of one array item: 4\n",
    "   ```\n"
   ]
  },
  {
   "cell_type": "code",
   "execution_count": 4,
   "metadata": {},
   "outputs": [
    {
     "name": "stdout",
     "output_type": "stream",
     "text": [
      "The size in bytes of one array item: 4\n"
     ]
    }
   ],
   "source": [
    "import array\n",
    "\n",
    "# Create an array of integers\n",
    "numbers = array.array('i', [10, 20, 30, 40, 50])\n",
    "\n",
    "# Get the size in bytes of one item\n",
    "item_size = numbers.itemsize\n",
    "\n",
    "# Display the result\n",
    "print(\"The size in bytes of one array item:\", item_size)\n"
   ]
  },
  {
   "cell_type": "markdown",
   "metadata": {},
   "source": [
    "\n",
    "5. **Remove an Item by Index**\n",
    "   - Write a Python program to remove a specified item using the index of an array.\n",
    "\n",
    "   **Example:**\n",
    "   ```python\n",
    "   # Sample Input\n",
    "   arr = [1, 3, 5, 7, 9]\n",
    "\n",
    "   # Sample Output\n",
    "   Original array: [1, 3, 5, 7, 9]\n",
    "   New array after removing index 2: [1, 3, 7, 9]\n",
    "   ```\n"
   ]
  },
  {
   "cell_type": "code",
   "execution_count": 5,
   "metadata": {},
   "outputs": [
    {
     "name": "stdout",
     "output_type": "stream",
     "text": [
      "Original array: array('i', [10, 20, 30, 40, 50])\n",
      "Array after removing item at index 2: array('i', [10, 20, 40, 50])\n"
     ]
    }
   ],
   "source": [
    "import array\n",
    "\n",
    "# Create an array of integers\n",
    "numbers = array.array('i', [10, 20, 30, 40, 50])\n",
    "\n",
    "# Display the original array\n",
    "print(\"Original array:\", numbers)\n",
    "\n",
    "# Specify the index to remove (e.g., index 2)\n",
    "index_to_remove = 2\n",
    "\n",
    "# Remove the item at the specified index\n",
    "del numbers[index_to_remove]\n",
    "\n",
    "# Display the updated array\n",
    "print(f\"Array after removing item at index {index_to_remove}:\", numbers)\n"
   ]
  },
  {
   "cell_type": "markdown",
   "metadata": {},
   "source": [
    "\n",
    "6. **Remove First Occurrence of an Element**\n",
    "   - Write a Python program to remove the first occurrence of a specified element from an array.\n",
    "\n",
    "   **Example:**\n",
    "   ```python\n",
    "   # Sample Input\n",
    "   arr = [1, 3, 5, 3, 7]\n",
    "\n",
    "   # Sample Output\n",
    "   Original array: [1, 3, 5, 3, 7]\n",
    "   New array after removing first occurrence of '3': [1, 5, 3, 7]\n",
    "   ```\n"
   ]
  },
  {
   "cell_type": "code",
   "execution_count": 6,
   "metadata": {},
   "outputs": [
    {
     "name": "stdout",
     "output_type": "stream",
     "text": [
      "Original array: array('i', [10, 20, 30, 40, 50, 30])\n",
      "Array after removing the first occurrence of 20: array('i', [10, 30, 40, 50, 30])\n"
     ]
    }
   ],
   "source": [
    "import array\n",
    "\n",
    "# Create an array of integers\n",
    "numbers = array.array('i', [10, 20, 30, 40, 50, 30])\n",
    "\n",
    "# Display the original array\n",
    "print(\"Original array:\", numbers)\n",
    "\n",
    "# Specify the value to remove (e.g., 20)\n",
    "value_to_remove = 20\n",
    "\n",
    "# Remove the first occurrence of the specified element\n",
    "numbers.remove(value_to_remove)\n",
    "\n",
    "# Display the updated array\n",
    "print(f\"Array after removing the first occurrence of {value_to_remove}:\", numbers)\n"
   ]
  },
  {
   "cell_type": "markdown",
   "metadata": {},
   "source": [
    "\n",
    "7. **Convert Array to List**\n",
    "    - Write a Python program to convert an array to an ordinary list with the same items.\n",
    "\n",
    "    **Example:**\n",
    "    ```python\n",
    "    # Sample Input\n",
    "    arr = [1, 2, 3]\n",
    "\n",
    "    # Sample Output\n",
    "    Converted list: [1, 2, 3]\n",
    "    ```\n"
   ]
  },
  {
   "cell_type": "code",
   "execution_count": 7,
   "metadata": {},
   "outputs": [
    {
     "name": "stdout",
     "output_type": "stream",
     "text": [
      "Array: array('i', [10, 20, 30, 40, 50])\n",
      "Converted list: [10, 20, 30, 40, 50]\n"
     ]
    }
   ],
   "source": [
    "import array\n",
    "\n",
    "# Create an array of integers\n",
    "numbers = array.array('i', [10, 20, 30, 40, 50])\n",
    "\n",
    "# Convert the array to a list\n",
    "numbers_list = list(numbers)\n",
    "\n",
    "# Display the result\n",
    "print(\"Array:\", numbers)\n",
    "print(\"Converted list:\", numbers_list)\n"
   ]
  },
  {
   "cell_type": "markdown",
   "metadata": {},
   "source": [
    "\n",
    "8. **Check for Duplicates in Array**\n",
    "    - Write a Python program to find out if a given array of integers contains any duplicate elements.\n",
    "\n",
    "    **Example:**\n",
    "    ```python\n",
    "    # Sample Input\n",
    "    arr = [1,2,3,4]\n",
    "\n",
    "    # Sample Output\n",
    "    Contains duplicates: False\n",
    "\n",
    "    arr = [1,2,2]\n",
    "\n",
    "    Contains duplicates: True\n",
    "    ```\n"
   ]
  },
  {
   "cell_type": "code",
   "execution_count": 8,
   "metadata": {},
   "outputs": [
    {
     "name": "stdout",
     "output_type": "stream",
     "text": [
      "The array contains duplicate elements.\n"
     ]
    }
   ],
   "source": [
    "import array\n",
    "\n",
    "# Create an array of integers\n",
    "numbers = array.array('i', [10, 20, 30, 40, 20])  # Contains a duplicate: 20\n",
    "\n",
    "# Convert the array to a list\n",
    "numbers_list = list(numbers)\n",
    "\n",
    "# Use a set to check for duplicates\n",
    "has_duplicates = len(numbers_list) != len(set(numbers_list))\n",
    "\n",
    "# Display the result\n",
    "if has_duplicates:\n",
    "    print(\"The array contains duplicate elements.\")\n",
    "else:\n",
    "    print(\"The array does not contain any duplicate elements.\")\n"
   ]
  },
  {
   "cell_type": "markdown",
   "metadata": {},
   "source": [
    "## Advanced Exercises\n"
   ]
  },
  {
   "cell_type": "markdown",
   "metadata": {},
   "source": [
    "\n",
    "1. **Find Maximum and Minimum in an Array**\n",
    "    - Write a Python program to find the maximum and minimum values in an integer array.\n",
    "\n",
    "    **Example:**\n",
    "    ```python\n",
    "    # Sample Input\n",
    "    arr = [10, -2, -30 ,4 ,100 ,50]\n",
    "\n",
    "    # Sample Output\n",
    "    Maximum value:100\n",
    "    Minimum value:-30\n",
    "    ```\n"
   ]
  },
  {
   "cell_type": "code",
   "execution_count": 9,
   "metadata": {},
   "outputs": [
    {
     "name": "stdout",
     "output_type": "stream",
     "text": [
      "Array elements: array('i', [18, -8, -17, 7, 55, 1969])\n",
      "Maximum value in the array: 1969\n",
      "Minimum value in the array: -17\n"
     ]
    }
   ],
   "source": [
    "import array\n",
    "\n",
    "# Create an array of integers\n",
    "numbers = array.array('i', [18, -8, -17, 7, 55, 1969])\n",
    "\n",
    "# Find the maximum and minimum values\n",
    "max_value = max(numbers)\n",
    "min_value = min(numbers)\n",
    "\n",
    "# Display the results\n",
    "print(\"Array elements:\", numbers)\n",
    "print(\"Maximum value in the array:\", max_value)\n",
    "print(\"Minimum value in the array:\", min_value)\n"
   ]
  },
  {
   "cell_type": "markdown",
   "metadata": {},
   "source": [
    "\n",
    "2. **Count Even and Odd Numbers in an Array**\n",
    "    - Write a Python program to count how many even and odd numbers are present in an integer array.\n",
    "\n",
    "    **Example:**\n",
    "    ```python\n",
    "    # Sample Input\n",
    "    arr = [10 ,21 ,32 ,43 ,54 ,65 ,76 ,87]\n",
    "\n",
    "    # Sample Output\n",
    "    Even count:4\n",
    "    Odd count:4\n",
    "    ```\n"
   ]
  },
  {
   "cell_type": "code",
   "execution_count": 10,
   "metadata": {},
   "outputs": [
    {
     "name": "stdout",
     "output_type": "stream",
     "text": [
      "Array elements: array('i', [18, -8, -17, 7, 55, 1969])\n",
      "Number of even elements: 2\n",
      "Number of odd elements: 4\n"
     ]
    }
   ],
   "source": [
    "import array\n",
    "\n",
    "# Create an array of integers\n",
    "numbers = array.array('i', [18, -8, -17, 7, 55, 1969])\n",
    "\n",
    "# Initialize counters\n",
    "even_count = 0\n",
    "odd_count = 0\n",
    "\n",
    "# Count even and odd numbers\n",
    "for num in numbers:\n",
    "    if num % 2 == 0:\n",
    "        even_count += 1\n",
    "    else:\n",
    "        odd_count += 1\n",
    "\n",
    "# Display the results\n",
    "print(\"Array elements:\", numbers)\n",
    "print(\"Number of even elements:\", even_count)\n",
    "print(\"Number of odd elements:\", odd_count)\n"
   ]
  },
  {
   "cell_type": "markdown",
   "metadata": {},
   "source": [
    "## Bonus Challenges\n"
   ]
  },
  {
   "cell_type": "markdown",
   "metadata": {},
   "source": [
    "\n",
    "1. **Rotate Array Elements**\n",
    "    - Write a Python program to rotate elements of an integer array by `k` positions.\n",
    "\n",
    "    **Example:**\n",
    "    ```python\n",
    "    # Sample Input\n",
    "    arr = [10 ,20 ,30 ,40 ,50]\n",
    "    k =2\n",
    "\n",
    "    # Sample Output\n",
    "    Rotated Array: [30 ,40 ,50 ,10 ,20]\n",
    "    ```\n"
   ]
  },
  {
   "cell_type": "code",
   "execution_count": 11,
   "metadata": {},
   "outputs": [
    {
     "name": "stdout",
     "output_type": "stream",
     "text": [
      "Rotated array: [17, 60, 2026, 88, -15, -22]\n"
     ]
    }
   ],
   "source": [
    "def rotate_array(arr, k):\n",
    "    n = len(arr)\n",
    "    k = k % n  # Normalize k in case it's larger than the array length\n",
    "    rotated = arr[-k:] + arr[:-k]\n",
    "    return rotated\n",
    "\n",
    "# Given array\n",
    "array = [88, -15, -22, 17, 60, 2026]\n",
    "\n",
    "# Input for number of positions to rotate\n",
    "k = int(input(\"Enter number of positions to rotate: \"))\n",
    "\n",
    "# Rotate and print result\n",
    "rotated_array = rotate_array(array, k)\n",
    "print(\"Rotated array:\", rotated_array)\n"
   ]
  },
  {
   "cell_type": "markdown",
   "metadata": {},
   "source": [
    "\n",
    "2. **Merge Two Sorted Arrays**\n",
    "     - Write a Python program to merge two sorted arrays into one sorted array.\n",
    "\n",
    "     **Example:**\n",
    "     ```python\n",
    "     # Sample Input\n",
    "     arr1 = [1 ,3 ,5]\n",
    "     arr2 = [2 ,4 ,6]\n",
    "\n",
    "     # Sample Output\n",
    "     Merged Sorted Array: [1 ,2 ,3 ,4 ,5 ,6]\n",
    "     ```\n",
    "\n"
   ]
  },
  {
   "cell_type": "code",
   "execution_count": 12,
   "metadata": {},
   "outputs": [
    {
     "name": "stdout",
     "output_type": "stream",
     "text": [
      "Merged sorted array: [-22, -15, 10, 17, 20, 60, 2026]\n"
     ]
    }
   ],
   "source": [
    "def merge_sorted_arrays(arr1, arr2):\n",
    "    merged = []\n",
    "    i = j = 0\n",
    "\n",
    "    # Merge elements from both arrays in sorted order\n",
    "    while i < len(arr1) and j < len(arr2):\n",
    "        if arr1[i] <= arr2[j]:\n",
    "            merged.append(arr1[i])\n",
    "            i += 1\n",
    "        else:\n",
    "            merged.append(arr2[j])\n",
    "            j += 1\n",
    "\n",
    "    # Append remaining elements\n",
    "    while i < len(arr1):\n",
    "        merged.append(arr1[i])\n",
    "        i += 1\n",
    "    while j < len(arr2):\n",
    "        merged.append(arr2[j])\n",
    "        j += 1\n",
    "\n",
    "    return merged\n",
    "\n",
    "# Example usage\n",
    "arr1 = [-22, -15, 17, 60]\n",
    "arr2 = [10, 20, 2026]\n",
    "\n",
    "merged_array = merge_sorted_arrays(arr1, arr2)\n",
    "print(\"Merged sorted array:\", merged_array)\n"
   ]
  },
  {
   "cell_type": "markdown",
   "metadata": {},
   "source": [
    "### Exercise Completion\n",
    "Once you have completed all exercises:\n",
    "- Review your solutions.\n",
    "- Ensure your Python code are well-documented with comments explaining your logic.\n",
    "- Save your notebook for submission or further review.\n",
    "\n",
    "Happy coding! Enjoy practicing Arrays in Python!"
   ]
  },
  {
   "cell_type": "markdown",
   "metadata": {},
   "source": []
  }
 ],
 "metadata": {
  "kernelspec": {
   "display_name": "Python 3",
   "language": "python",
   "name": "python3"
  },
  "language_info": {
   "codemirror_mode": {
    "name": "ipython",
    "version": 3
   },
   "file_extension": ".py",
   "mimetype": "text/x-python",
   "name": "python",
   "nbconvert_exporter": "python",
   "pygments_lexer": "ipython3",
   "version": "3.13.3"
  }
 },
 "nbformat": 4,
 "nbformat_minor": 2
}
